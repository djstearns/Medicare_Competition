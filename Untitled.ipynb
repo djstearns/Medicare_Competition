{
 "cells": [
  {
   "cell_type": "code",
   "execution_count": null,
   "id": "209a7b1b-3978-4f46-b0c0-a5e95dea5c30",
   "metadata": {},
   "outputs": [],
   "source": [
    "main_df = pd.DataFrame()\n",
    "offset = 0\n",
    "for num in range(0, 400):\n",
    "    size = 50\n",
    "    api_url = 'https://data.cms.gov/data-api/v1/dataset/92396110-2aed-4d63-a6a2-5d6207d46a29/data?size=' + str(size) + '&offset=' + str(offset) + '&filter[Rndrng_Prvdr_Type]=Diagnostic%20Radiology'\n",
    "    offset += size\n",
    "    \n",
    "    response = requests.get(api_url)\n",
    "    json_response = response.json()\n",
    "    print(json_response)\n",
    "    df = pd.json_normalize(json_response)\n",
    "    print(api_url)\n",
    "    main_df = pd.concat([main_df, df])\n",
    "   # main_df.append(df)\n",
    "    # print(main_df)\n",
    "    \n",
    "main_df.to_csv('data.csv')"
   ]
  }
 ],
 "metadata": {
  "kernelspec": {
   "display_name": "Python 3",
   "language": "python",
   "name": "python3"
  },
  "language_info": {
   "codemirror_mode": {
    "name": "ipython",
    "version": 3
   },
   "file_extension": ".py",
   "mimetype": "text/x-python",
   "name": "python",
   "nbconvert_exporter": "python",
   "pygments_lexer": "ipython3",
   "version": "3.8.8"
  }
 },
 "nbformat": 4,
 "nbformat_minor": 5
}
